{
 "cells": [
  {
   "cell_type": "code",
   "execution_count": 1,
   "metadata": {
    "colab": {
     "base_uri": "https://localhost:8080/",
     "height": 119
    },
    "colab_type": "code",
    "id": "Y5AlNgqbsfzn",
    "outputId": "dcf5392b-88de-41aa-98e4-8f7dd50e1eb2"
   },
   "outputs": [
    {
     "name": "stdout",
     "output_type": "stream",
     "text": [
      "Archive:  movielens100k.zip\n",
      "  inflating: movies.csv              \n",
      "  inflating: ratings.csv             \n",
      "  inflating: tags.csv                \n",
      "  inflating: u.data                  \n",
      "  inflating: links.csv               \n"
     ]
    }
   ],
   "source": [
    "!unzip movielens100k.zip\n"
   ]
  },
  {
   "cell_type": "markdown",
   "metadata": {
    "colab_type": "text",
    "id": "ekYZGPXZI1mM"
   },
   "source": [
    "**Importing all the libraraies or dependencies**"
   ]
  },
  {
   "cell_type": "code",
   "execution_count": 2,
   "metadata": {
    "colab": {
     "base_uri": "https://localhost:8080/",
     "height": 34
    },
    "colab_type": "code",
    "id": "83cgF_8AmQ4i",
    "outputId": "b9c1227f-f87b-4d97-bc68-3d671b9e00ff"
   },
   "outputs": [
    {
     "name": "stderr",
     "output_type": "stream",
     "text": [
      "Using TensorFlow backend.\n"
     ]
    }
   ],
   "source": [
    "\n",
    "# data visualisation and manipulation\n",
    "import numpy as np\n",
    "import pandas as pd\n",
    "import matplotlib.pyplot as plt\n",
    "from matplotlib import style\n",
    "import seaborn as sns\n",
    " \n",
    "#configure\n",
    "# sets matplotlib to inline and displays graphs below the corressponding cell.\n",
    "%matplotlib inline  \n",
    "style.use('fivethirtyeight')\n",
    "sns.set(style='whitegrid',color_codes=True)\n",
    "\n",
    "\n",
    "#dl libraraies\n",
    "import keras\n",
    "from keras import backend as K\n",
    "from keras.models import Sequential\n",
    "from keras.layers import Dense , merge\n",
    "from keras.optimizers import Adam\n",
    "from keras.utils.vis_utils import model_to_dot\n",
    "\n",
    "\n",
    "from keras.layers.merge import dot\n",
    "from keras.models import Model\n",
    "\n",
    "\n",
    "# specifically for deeplearning.\n",
    "from keras.layers import LSTM\n",
    "from keras.layers import Flatten,Activation,Input,Embedding\n",
    " "
   ]
  },
  {
   "cell_type": "markdown",
   "metadata": {
    "colab_type": "text",
    "id": "tDFLswEMI-sM"
   },
   "source": [
    "reading the **ratings.csv and movies.csv**\n",
    "\n",
    "After reading merging both the files"
   ]
  },
  {
   "cell_type": "code",
   "execution_count": 0,
   "metadata": {
    "colab": {},
    "colab_type": "code",
    "id": "eVqKi_pimok9"
   },
   "outputs": [],
   "source": [
    "rating=pd.read_csv(r'/content/ratings.csv')\n",
    "movies = pd.read_csv(r'/content/movies.csv')\n",
    "\n",
    "data = pd.merge(movies,rating)"
   ]
  },
  {
   "cell_type": "markdown",
   "metadata": {
    "colab_type": "text",
    "id": "znGURWoFJSDP"
   },
   "source": [
    "coping all the merge data into df"
   ]
  },
  {
   "cell_type": "code",
   "execution_count": 0,
   "metadata": {
    "colab": {},
    "colab_type": "code",
    "id": "GZ6b5dBZmxdk"
   },
   "outputs": [],
   "source": [
    "df=data.copy()"
   ]
  },
  {
   "cell_type": "code",
   "execution_count": 105,
   "metadata": {
    "colab": {
     "base_uri": "https://localhost:8080/",
     "height": 204
    },
    "colab_type": "code",
    "id": "TsOBxkq9nFNV",
    "outputId": "4191dcc0-5654-41f2-9ca9-f30a74987ba5"
   },
   "outputs": [
    {
     "data": {
      "text/html": [
       "<div>\n",
       "<style scoped>\n",
       "    .dataframe tbody tr th:only-of-type {\n",
       "        vertical-align: middle;\n",
       "    }\n",
       "\n",
       "    .dataframe tbody tr th {\n",
       "        vertical-align: top;\n",
       "    }\n",
       "\n",
       "    .dataframe thead th {\n",
       "        text-align: right;\n",
       "    }\n",
       "</style>\n",
       "<table border=\"1\" class=\"dataframe\">\n",
       "  <thead>\n",
       "    <tr style=\"text-align: right;\">\n",
       "      <th></th>\n",
       "      <th>movieId</th>\n",
       "      <th>title</th>\n",
       "      <th>genres</th>\n",
       "      <th>userId</th>\n",
       "      <th>rating</th>\n",
       "      <th>timestamp</th>\n",
       "    </tr>\n",
       "  </thead>\n",
       "  <tbody>\n",
       "    <tr>\n",
       "      <th>0</th>\n",
       "      <td>1</td>\n",
       "      <td>Toy Story (1995)</td>\n",
       "      <td>Adventure|Animation|Children|Comedy|Fantasy</td>\n",
       "      <td>7</td>\n",
       "      <td>3.0</td>\n",
       "      <td>851866703</td>\n",
       "    </tr>\n",
       "    <tr>\n",
       "      <th>1</th>\n",
       "      <td>1</td>\n",
       "      <td>Toy Story (1995)</td>\n",
       "      <td>Adventure|Animation|Children|Comedy|Fantasy</td>\n",
       "      <td>9</td>\n",
       "      <td>4.0</td>\n",
       "      <td>938629179</td>\n",
       "    </tr>\n",
       "    <tr>\n",
       "      <th>2</th>\n",
       "      <td>1</td>\n",
       "      <td>Toy Story (1995)</td>\n",
       "      <td>Adventure|Animation|Children|Comedy|Fantasy</td>\n",
       "      <td>13</td>\n",
       "      <td>5.0</td>\n",
       "      <td>1331380058</td>\n",
       "    </tr>\n",
       "    <tr>\n",
       "      <th>3</th>\n",
       "      <td>1</td>\n",
       "      <td>Toy Story (1995)</td>\n",
       "      <td>Adventure|Animation|Children|Comedy|Fantasy</td>\n",
       "      <td>15</td>\n",
       "      <td>2.0</td>\n",
       "      <td>997938310</td>\n",
       "    </tr>\n",
       "    <tr>\n",
       "      <th>4</th>\n",
       "      <td>1</td>\n",
       "      <td>Toy Story (1995)</td>\n",
       "      <td>Adventure|Animation|Children|Comedy|Fantasy</td>\n",
       "      <td>19</td>\n",
       "      <td>3.0</td>\n",
       "      <td>855190091</td>\n",
       "    </tr>\n",
       "  </tbody>\n",
       "</table>\n",
       "</div>"
      ],
      "text/plain": [
       "   movieId             title                                       genres  \\\n",
       "0        1  Toy Story (1995)  Adventure|Animation|Children|Comedy|Fantasy   \n",
       "1        1  Toy Story (1995)  Adventure|Animation|Children|Comedy|Fantasy   \n",
       "2        1  Toy Story (1995)  Adventure|Animation|Children|Comedy|Fantasy   \n",
       "3        1  Toy Story (1995)  Adventure|Animation|Children|Comedy|Fantasy   \n",
       "4        1  Toy Story (1995)  Adventure|Animation|Children|Comedy|Fantasy   \n",
       "\n",
       "   userId  rating   timestamp  \n",
       "0       7     3.0   851866703  \n",
       "1       9     4.0   938629179  \n",
       "2      13     5.0  1331380058  \n",
       "3      15     2.0   997938310  \n",
       "4      19     3.0   855190091  "
      ]
     },
     "execution_count": 105,
     "metadata": {
      "tags": []
     },
     "output_type": "execute_result"
    }
   ],
   "source": [
    "df.head()"
   ]
  },
  {
   "cell_type": "markdown",
   "metadata": {
    "colab_type": "text",
    "id": "VdgIgdq9JZ71"
   },
   "source": [
    "printing all the unique users"
   ]
  },
  {
   "cell_type": "code",
   "execution_count": 106,
   "metadata": {
    "colab": {
     "base_uri": "https://localhost:8080/",
     "height": 901
    },
    "colab_type": "code",
    "id": "R2lOqJ2LnHml",
    "outputId": "d15648c3-79f0-4bd8-a4d8-a652ed9b7d34"
   },
   "outputs": [
    {
     "data": {
      "text/plain": [
       "array([  7,   9,  13,  15,  19,  20,  23,  26,  30,  37,  43,  44,  47,\n",
       "        48,  55,  56,  63,  67,  68,  69,  70,  72,  73,  75,  77,  79,\n",
       "        84,  86,  87,  89,  90,  91,  92,  93,  94,  97,  99, 100, 106,\n",
       "       112, 119, 120, 121, 122, 124, 125, 126, 128, 130, 134, 136, 138,\n",
       "       142, 146, 149, 150, 152, 153, 154, 157, 163, 164, 165, 168, 169,\n",
       "       173, 175, 176, 177, 178, 179, 184, 185, 187, 193, 200, 201, 205,\n",
       "       212, 213, 215, 219, 220, 224, 232, 237, 240, 241, 242, 247, 252,\n",
       "       253, 261, 262, 268, 272, 273, 275, 282, 283, 284, 285, 287, 292,\n",
       "       293, 294, 306, 311, 312, 313, 314, 318, 321, 324, 328, 329, 333,\n",
       "       334, 336, 343, 344, 345, 350, 353, 354, 355, 357, 358, 361, 363,\n",
       "       379, 380, 382, 383, 390, 396, 401, 402, 403, 406, 407, 408, 409,\n",
       "       410, 412, 417, 418, 419, 421, 422, 425, 426, 428, 430, 431, 432,\n",
       "       433, 434, 437, 440, 442, 447, 448, 452, 455, 456, 457, 458, 459,\n",
       "       460, 461, 463, 466, 468, 470, 471, 472, 475, 480, 481, 484, 486,\n",
       "       490, 491, 500, 501, 502, 503, 506, 507, 509, 510, 514, 518, 520,\n",
       "       525, 526, 529, 530, 531, 534, 537, 538, 542, 543, 547, 548, 553,\n",
       "       559, 560, 561, 562, 564, 568, 570, 574, 575, 577, 580, 584, 585,\n",
       "       586, 594, 595, 596, 597, 598, 603, 607, 608, 615, 616, 623, 624,\n",
       "       630, 636, 641, 646, 647, 649, 653, 654, 660, 663, 664, 670, 671,\n",
       "        32,  41,  49,  61,  78,  80,  85,  88, 113, 115, 151, 161, 182,\n",
       "       188, 192, 218, 279, 288, 298, 338, 346, 369, 389, 473, 479, 487,\n",
       "       496, 517, 522, 535, 590, 593, 602, 655, 662, 665,   5,  25, 110,\n",
       "       162, 217, 233, 239, 256, 416, 505, 516, 605, 614, 640, 650, 391,\n",
       "       644,  18,  98, 111, 127, 140, 196, 223, 235, 381, 621,  17,  24,\n",
       "        34,  36,  39,  83,  95, 105, 195, 199, 236, 295, 340, 367, 385,\n",
       "       388, 404, 413, 544, 588, 627, 633, 648, 659, 666, 667, 493, 551,\n",
       "       254,   2,   4,  21,  50,  74,  82, 108, 114, 135, 137, 144, 145,\n",
       "       159, 191, 214, 243, 249, 290, 302, 375, 384, 399, 400, 405, 415,\n",
       "       464, 550, 552, 555, 589, 592,  57,  58,  59, 280, 319, 387, 508,\n",
       "       511, 569, 639, 102, 266, 304, 341, 342,  38,  60, 109, 118, 171,\n",
       "       204, 208, 210, 221, 271, 299, 330, 373, 386, 393, 423, 476, 523,\n",
       "       628, 172, 211, 308, 371, 465, 539, 554, 578, 255, 549, 571,  33,\n",
       "       194, 527, 528, 532, 536, 604,  28,  66, 263, 265, 414, 462, 619,\n",
       "       245, 274, 652, 203, 286,  35, 180, 207, 331, 348, 366, 411, 489,\n",
       "       629, 637, 656, 303, 533, 587, 103, 148, 170, 450, 492,   1,  31,\n",
       "        96, 186, 310, 325, 394, 485, 601,   8,  22, 155, 183, 197, 248,\n",
       "       300, 327, 352, 370, 420, 435, 449, 482, 524, 546, 160, 166, 259,\n",
       "       439, 495, 545, 557, 582, 658, 156, 198, 573, 129, 264, 315, 424,\n",
       "       599, 617, 190, 467, 453,  76, 116, 133, 143, 216, 225, 267, 270,\n",
       "       291, 307, 339, 360, 364, 478, 488, 631, 174, 591,  10,  11,  16,\n",
       "        27,  40, 147, 231, 309, 362, 378, 438, 454, 483, 494, 499, 519,\n",
       "       521, 556, 567, 572, 613, 618, 620, 635, 643, 451, 359, 436, 441,\n",
       "         3, 326, 515, 297, 579, 632, 260, 276, 332,  46, 347, 278, 609,\n",
       "       351, 301,  42,  64, 104, 139, 244, 251, 257, 277, 395, 513,   6,\n",
       "        53,  62,  81, 250, 558, 563, 305, 429, 132, 356, 101, 189, 281,\n",
       "       317, 365, 565, 657, 477, 645, 642, 209, 322, 335, 392, 469, 398,\n",
       "       606, 634, 323, 246, 117, 626, 230, 612, 669, 222, 238, 123, 372,\n",
       "       427, 497,  12,  65, 228, 234, 258, 316, 337, 368, 443, 474, 576,\n",
       "       611, 622, 651, 377, 107, 181, 202, 320, 445, 583, 668, 131,  54,\n",
       "       141, 226, 376, 446, 512, 540, 566, 661, 158, 638, 625, 541,  52,\n",
       "       498, 229, 397, 167, 349, 581,  45, 610, 296,  71, 600, 206,  14,\n",
       "        29, 289, 444,  51, 374, 269, 504, 227])"
      ]
     },
     "execution_count": 106,
     "metadata": {
      "tags": []
     },
     "output_type": "execute_result"
    }
   ],
   "source": [
    "df['userId'].unique()"
   ]
  },
  {
   "cell_type": "markdown",
   "metadata": {
    "colab_type": "text",
    "id": "m29GKijGJfWC"
   },
   "source": [
    "printing the length of the number of users"
   ]
  },
  {
   "cell_type": "code",
   "execution_count": 107,
   "metadata": {
    "colab": {
     "base_uri": "https://localhost:8080/",
     "height": 34
    },
    "colab_type": "code",
    "id": "hspygLXVnNAm",
    "outputId": "dda71d43-1ee8-45ff-ea44-0a68d61f0972"
   },
   "outputs": [
    {
     "data": {
      "text/plain": [
       "671"
      ]
     },
     "execution_count": 107,
     "metadata": {
      "tags": []
     },
     "output_type": "execute_result"
    }
   ],
   "source": [
    "len(df['userId'].unique())"
   ]
  },
  {
   "cell_type": "markdown",
   "metadata": {
    "colab_type": "text",
    "id": "LWCW5JrAJizH"
   },
   "source": [
    "printing all the unique movies"
   ]
  },
  {
   "cell_type": "code",
   "execution_count": 108,
   "metadata": {
    "colab": {
     "base_uri": "https://localhost:8080/",
     "height": 34
    },
    "colab_type": "code",
    "id": "VWyMh5XcnSJn",
    "outputId": "48705896-ac9c-474d-b973-0e0148d3f23c"
   },
   "outputs": [
    {
     "data": {
      "text/plain": [
       "array([     1,      2,      3, ..., 162542, 162672, 163949])"
      ]
     },
     "execution_count": 108,
     "metadata": {
      "tags": []
     },
     "output_type": "execute_result"
    }
   ],
   "source": [
    "df['movieId'].unique()"
   ]
  },
  {
   "cell_type": "markdown",
   "metadata": {
    "colab_type": "text",
    "id": "Ss3aYRsfJnBQ"
   },
   "source": [
    "printing length of the number of unique movies"
   ]
  },
  {
   "cell_type": "code",
   "execution_count": 109,
   "metadata": {
    "colab": {
     "base_uri": "https://localhost:8080/",
     "height": 34
    },
    "colab_type": "code",
    "id": "EIqDsCGynVY4",
    "outputId": "5acee8bc-b538-4e6b-e8d1-f8f634109263"
   },
   "outputs": [
    {
     "data": {
      "text/plain": [
       "9066"
      ]
     },
     "execution_count": 109,
     "metadata": {
      "tags": []
     },
     "output_type": "execute_result"
    }
   ],
   "source": [
    "len(df['movieId'].unique())"
   ]
  },
  {
   "cell_type": "code",
   "execution_count": 130,
   "metadata": {
    "colab": {
     "base_uri": "https://localhost:8080/",
     "height": 34
    },
    "colab_type": "code",
    "id": "HrtH5ghYplFm",
    "outputId": "90122da3-f15a-48ea-ed2a-7830cb6a720a"
   },
   "outputs": [
    {
     "data": {
      "text/plain": [
       "0.5"
      ]
     },
     "execution_count": 130,
     "metadata": {
      "tags": []
     },
     "output_type": "execute_result"
    }
   ],
   "source": [
    "df['rating'].min() # minimum rating"
   ]
  },
  {
   "cell_type": "code",
   "execution_count": 131,
   "metadata": {
    "colab": {
     "base_uri": "https://localhost:8080/",
     "height": 34
    },
    "colab_type": "code",
    "id": "jc7FcFaGpo5Q",
    "outputId": "68a5e1ea-357c-4ab2-b850-4078cdc7bb6a"
   },
   "outputs": [
    {
     "data": {
      "text/plain": [
       "5.0"
      ]
     },
     "execution_count": 131,
     "metadata": {
      "tags": []
     },
     "output_type": "execute_result"
    }
   ],
   "source": [
    "df['rating'].max() # maximum rating"
   ]
  },
  {
   "cell_type": "markdown",
   "metadata": {
    "colab_type": "text",
    "id": "SLlHwl-yJ-LW"
   },
   "source": [
    "**Encoding the columns**"
   ]
  },
  {
   "cell_type": "code",
   "execution_count": 0,
   "metadata": {
    "colab": {},
    "colab_type": "code",
    "id": "L17wVGiVpqsF"
   },
   "outputs": [],
   "source": [
    "df.userId = df.userId.astype('category').cat.codes.values\n",
    "df.movieId = df.movieId.astype('category').cat.codes.values"
   ]
  },
  {
   "cell_type": "code",
   "execution_count": 111,
   "metadata": {
    "colab": {
     "base_uri": "https://localhost:8080/",
     "height": 204
    },
    "colab_type": "code",
    "id": "siAhWGfepw2_",
    "outputId": "2e6c8bdb-6cff-4f7b-ee1f-9628a7760ca5"
   },
   "outputs": [
    {
     "data": {
      "text/html": [
       "<div>\n",
       "<style scoped>\n",
       "    .dataframe tbody tr th:only-of-type {\n",
       "        vertical-align: middle;\n",
       "    }\n",
       "\n",
       "    .dataframe tbody tr th {\n",
       "        vertical-align: top;\n",
       "    }\n",
       "\n",
       "    .dataframe thead th {\n",
       "        text-align: right;\n",
       "    }\n",
       "</style>\n",
       "<table border=\"1\" class=\"dataframe\">\n",
       "  <thead>\n",
       "    <tr style=\"text-align: right;\">\n",
       "      <th></th>\n",
       "      <th>movieId</th>\n",
       "      <th>title</th>\n",
       "      <th>genres</th>\n",
       "      <th>userId</th>\n",
       "      <th>rating</th>\n",
       "      <th>timestamp</th>\n",
       "    </tr>\n",
       "  </thead>\n",
       "  <tbody>\n",
       "    <tr>\n",
       "      <th>0</th>\n",
       "      <td>0</td>\n",
       "      <td>Toy Story (1995)</td>\n",
       "      <td>Adventure|Animation|Children|Comedy|Fantasy</td>\n",
       "      <td>6</td>\n",
       "      <td>3.0</td>\n",
       "      <td>851866703</td>\n",
       "    </tr>\n",
       "    <tr>\n",
       "      <th>1</th>\n",
       "      <td>0</td>\n",
       "      <td>Toy Story (1995)</td>\n",
       "      <td>Adventure|Animation|Children|Comedy|Fantasy</td>\n",
       "      <td>8</td>\n",
       "      <td>4.0</td>\n",
       "      <td>938629179</td>\n",
       "    </tr>\n",
       "    <tr>\n",
       "      <th>2</th>\n",
       "      <td>0</td>\n",
       "      <td>Toy Story (1995)</td>\n",
       "      <td>Adventure|Animation|Children|Comedy|Fantasy</td>\n",
       "      <td>12</td>\n",
       "      <td>5.0</td>\n",
       "      <td>1331380058</td>\n",
       "    </tr>\n",
       "    <tr>\n",
       "      <th>3</th>\n",
       "      <td>0</td>\n",
       "      <td>Toy Story (1995)</td>\n",
       "      <td>Adventure|Animation|Children|Comedy|Fantasy</td>\n",
       "      <td>14</td>\n",
       "      <td>2.0</td>\n",
       "      <td>997938310</td>\n",
       "    </tr>\n",
       "    <tr>\n",
       "      <th>4</th>\n",
       "      <td>0</td>\n",
       "      <td>Toy Story (1995)</td>\n",
       "      <td>Adventure|Animation|Children|Comedy|Fantasy</td>\n",
       "      <td>18</td>\n",
       "      <td>3.0</td>\n",
       "      <td>855190091</td>\n",
       "    </tr>\n",
       "  </tbody>\n",
       "</table>\n",
       "</div>"
      ],
      "text/plain": [
       "   movieId             title                                       genres  \\\n",
       "0        0  Toy Story (1995)  Adventure|Animation|Children|Comedy|Fantasy   \n",
       "1        0  Toy Story (1995)  Adventure|Animation|Children|Comedy|Fantasy   \n",
       "2        0  Toy Story (1995)  Adventure|Animation|Children|Comedy|Fantasy   \n",
       "3        0  Toy Story (1995)  Adventure|Animation|Children|Comedy|Fantasy   \n",
       "4        0  Toy Story (1995)  Adventure|Animation|Children|Comedy|Fantasy   \n",
       "\n",
       "   userId  rating   timestamp  \n",
       "0       6     3.0   851866703  \n",
       "1       8     4.0   938629179  \n",
       "2      12     5.0  1331380058  \n",
       "3      14     2.0   997938310  \n",
       "4      18     3.0   855190091  "
      ]
     },
     "execution_count": 111,
     "metadata": {
      "tags": []
     },
     "output_type": "execute_result"
    }
   ],
   "source": [
    "df.head()"
   ]
  },
  {
   "cell_type": "code",
   "execution_count": 112,
   "metadata": {
    "colab": {
     "base_uri": "https://localhost:8080/",
     "height": 34
    },
    "colab_type": "code",
    "id": "dObfjeZvpz5R",
    "outputId": "7f4a1088-61d9-4643-c97e-a6e9b73d7be1"
   },
   "outputs": [
    {
     "data": {
      "text/plain": [
       "array([   0,    1,    2, ..., 9063, 9064, 9065])"
      ]
     },
     "execution_count": 112,
     "metadata": {
      "tags": []
     },
     "output_type": "execute_result"
    }
   ],
   "source": [
    "df['movieId'].unique()"
   ]
  },
  {
   "cell_type": "markdown",
   "metadata": {
    "colab_type": "text",
    "id": "TgJqqeIWKG6v"
   },
   "source": [
    "**spliting the data into train and test**"
   ]
  },
  {
   "cell_type": "code",
   "execution_count": 0,
   "metadata": {
    "colab": {},
    "colab_type": "code",
    "id": "6agMAoWduTD1"
   },
   "outputs": [],
   "source": [
    "from sklearn.model_selection import train_test_split\n",
    "train, test = train_test_split(df, test_size=0.2)"
   ]
  },
  {
   "cell_type": "code",
   "execution_count": 114,
   "metadata": {
    "colab": {
     "base_uri": "https://localhost:8080/",
     "height": 51
    },
    "colab_type": "code",
    "id": "aEE-YqK8zjHc",
    "outputId": "918a8512-7fa6-46f7-b723-4719579c138e"
   },
   "outputs": [
    {
     "name": "stdout",
     "output_type": "stream",
     "text": [
      "671\n",
      "9066\n"
     ]
    }
   ],
   "source": [
    "n_users = len(df.userId.unique())\n",
    "n_movies = len(df.movieId.unique())\n",
    "print(n_users)\n",
    "print(n_movies)"
   ]
  },
  {
   "cell_type": "code",
   "execution_count": 132,
   "metadata": {
    "colab": {
     "base_uri": "https://localhost:8080/",
     "height": 204
    },
    "colab_type": "code",
    "id": "7GOekNOo3Hun",
    "outputId": "75a72f86-7732-4388-ffee-2653e553415b",
    "scrolled": true
   },
   "outputs": [
    {
     "data": {
      "text/html": [
       "<div>\n",
       "<style scoped>\n",
       "    .dataframe tbody tr th:only-of-type {\n",
       "        vertical-align: middle;\n",
       "    }\n",
       "\n",
       "    .dataframe tbody tr th {\n",
       "        vertical-align: top;\n",
       "    }\n",
       "\n",
       "    .dataframe thead th {\n",
       "        text-align: right;\n",
       "    }\n",
       "</style>\n",
       "<table border=\"1\" class=\"dataframe\">\n",
       "  <thead>\n",
       "    <tr style=\"text-align: right;\">\n",
       "      <th></th>\n",
       "      <th>movieId</th>\n",
       "      <th>title</th>\n",
       "      <th>genres</th>\n",
       "      <th>userId</th>\n",
       "      <th>rating</th>\n",
       "      <th>timestamp</th>\n",
       "    </tr>\n",
       "  </thead>\n",
       "  <tbody>\n",
       "    <tr>\n",
       "      <th>97086</th>\n",
       "      <td>8105</td>\n",
       "      <td>Looper (2012)</td>\n",
       "      <td>Action|Crime|Sci-Fi</td>\n",
       "      <td>90</td>\n",
       "      <td>5.0</td>\n",
       "      <td>1448798244</td>\n",
       "    </tr>\n",
       "    <tr>\n",
       "      <th>8419</th>\n",
       "      <td>260</td>\n",
       "      <td>Once Were Warriors (1994)</td>\n",
       "      <td>Crime|Drama</td>\n",
       "      <td>646</td>\n",
       "      <td>4.0</td>\n",
       "      <td>947293128</td>\n",
       "    </tr>\n",
       "    <tr>\n",
       "      <th>84700</th>\n",
       "      <td>5627</td>\n",
       "      <td>Ocean's Twelve (2004)</td>\n",
       "      <td>Action|Comedy|Crime|Thriller</td>\n",
       "      <td>573</td>\n",
       "      <td>3.0</td>\n",
       "      <td>1232914878</td>\n",
       "    </tr>\n",
       "    <tr>\n",
       "      <th>1032</th>\n",
       "      <td>16</td>\n",
       "      <td>Sense and Sensibility (1995)</td>\n",
       "      <td>Drama|Romance</td>\n",
       "      <td>73</td>\n",
       "      <td>4.0</td>\n",
       "      <td>942705568</td>\n",
       "    </tr>\n",
       "    <tr>\n",
       "      <th>738</th>\n",
       "      <td>9</td>\n",
       "      <td>GoldenEye (1995)</td>\n",
       "      <td>Action|Adventure|Thriller</td>\n",
       "      <td>388</td>\n",
       "      <td>4.0</td>\n",
       "      <td>829491840</td>\n",
       "    </tr>\n",
       "  </tbody>\n",
       "</table>\n",
       "</div>"
      ],
      "text/plain": [
       "       movieId                         title                        genres  \\\n",
       "97086     8105                 Looper (2012)           Action|Crime|Sci-Fi   \n",
       "8419       260     Once Were Warriors (1994)                   Crime|Drama   \n",
       "84700     5627         Ocean's Twelve (2004)  Action|Comedy|Crime|Thriller   \n",
       "1032        16  Sense and Sensibility (1995)                 Drama|Romance   \n",
       "738          9              GoldenEye (1995)     Action|Adventure|Thriller   \n",
       "\n",
       "       userId  rating   timestamp  \n",
       "97086      90     5.0  1448798244  \n",
       "8419      646     4.0   947293128  \n",
       "84700     573     3.0  1232914878  \n",
       "1032       73     4.0   942705568  \n",
       "738       388     4.0   829491840  "
      ]
     },
     "execution_count": 132,
     "metadata": {
      "tags": []
     },
     "output_type": "execute_result"
    }
   ],
   "source": [
    "test.head()"
   ]
  },
  {
   "cell_type": "markdown",
   "metadata": {
    "colab_type": "text",
    "id": "rEsZujPRGJ_Z"
   },
   "source": [
    "**Creating Embedding Model**\n",
    "\n",
    "Our model will have the following structure:\n",
    "\n",
    "*   Input: Input for both books and users\n",
    "*   Embedding Layers: Embeddings for books and users\n",
    "*   Dot: combines embeddings using a dot product\n",
    "\n",
    "The problem is really  on recommending movie to a paticualar user and as such is defined as optimizing the log loss (mean_squared_error), here using the ADAM optimization algorithm for speed"
   ]
  },
  {
   "cell_type": "code",
   "execution_count": 84,
   "metadata": {
    "colab": {
     "base_uri": "https://localhost:8080/",
     "height": 391
    },
    "colab_type": "code",
    "id": "TYzYACDBuYqS",
    "outputId": "fdf0c99a-346c-4855-878a-c368ac7309f1"
   },
   "outputs": [
    {
     "name": "stdout",
     "output_type": "stream",
     "text": [
      "__________________________________________________________________________________________________\n",
      "Layer (type)                    Output Shape         Param #     Connected to                     \n",
      "==================================================================================================\n",
      "Movie-Input (InputLayer)        (None, 1)            0                                            \n",
      "__________________________________________________________________________________________________\n",
      "User-Input (InputLayer)         (None, 1)            0                                            \n",
      "__________________________________________________________________________________________________\n",
      "Movie-Embedding (Embedding)     (None, 1, 5)         45335       Movie-Input[0][0]                \n",
      "__________________________________________________________________________________________________\n",
      "User-Embedding (Embedding)      (None, 1, 5)         3360        User-Input[0][0]                 \n",
      "__________________________________________________________________________________________________\n",
      "Flatten-Movies (Flatten)        (None, 5)            0           Movie-Embedding[0][0]            \n",
      "__________________________________________________________________________________________________\n",
      "Flatten-Users (Flatten)         (None, 5)            0           User-Embedding[0][0]             \n",
      "__________________________________________________________________________________________________\n",
      "Dot-Product (Dot)               (None, 1)            0           Flatten-Movies[0][0]             \n",
      "                                                                 Flatten-Users[0][0]              \n",
      "==================================================================================================\n",
      "Total params: 48,695\n",
      "Trainable params: 48,695\n",
      "Non-trainable params: 0\n",
      "__________________________________________________________________________________________________\n"
     ]
    }
   ],
   "source": [
    "from keras.layers import Input, Embedding, Flatten, Dot, Dense\n",
    "from keras.models import Model\n",
    "\n",
    "\n",
    "movie_input = Input(shape=[1], name=\"Movie-Input\")\n",
    "movie_embedding = Embedding(n_movies+1, 5, name=\"Movie-Embedding\")(movie_input)\n",
    "movie_vec = Flatten(name=\"Flatten-Movies\")(movie_embedding)\n",
    "\n",
    "user_input = Input(shape=[1], name=\"User-Input\")\n",
    "user_embedding = Embedding(n_users+1, 5, name=\"User-Embedding\")(user_input)\n",
    "user_vec = Flatten(name=\"Flatten-Users\")(user_embedding)\n",
    "\n",
    "prod = Dot(name=\"Dot-Product\", axes=1)([movie_vec, user_vec])\n",
    "model = Model([user_input, movie_input], prod)\n",
    "model.compile('adam', 'mean_squared_error')\n",
    "model.summary()"
   ]
  },
  {
   "cell_type": "markdown",
   "metadata": {
    "colab_type": "text",
    "id": "kGpARuIbGH4T"
   },
   "source": [
    "Training the model\n",
    "Now that we have created our model we are ready to train it. Because we have two input layers (one for the books and one for the users), we need to specify an array of training data as our x data.\n",
    "\n",
    "We can now fit our model to the data. Here we use a modest number of 30 epochs and a large batch size of 64 patterns."
   ]
  },
  {
   "cell_type": "code",
   "execution_count": 85,
   "metadata": {
    "colab": {
     "base_uri": "https://localhost:8080/",
     "height": 1037
    },
    "colab_type": "code",
    "id": "mG4aB6CPuwbi",
    "outputId": "0999454e-ee67-493a-e0a9-f15e68a9f6b7"
   },
   "outputs": [
    {
     "name": "stdout",
     "output_type": "stream",
     "text": [
      "Epoch 1/30\n",
      "80003/80003 [==============================] - 3s 40us/step - loss: 13.0612\n",
      "Epoch 2/30\n",
      "80003/80003 [==============================] - 3s 37us/step - loss: 7.4060\n",
      "Epoch 3/30\n",
      "80003/80003 [==============================] - 3s 37us/step - loss: 3.7408\n",
      "Epoch 4/30\n",
      "80003/80003 [==============================] - 3s 42us/step - loss: 2.4630\n",
      "Epoch 5/30\n",
      "80003/80003 [==============================] - 3s 44us/step - loss: 1.8299\n",
      "Epoch 6/30\n",
      "80003/80003 [==============================] - 3s 37us/step - loss: 1.4683\n",
      "Epoch 7/30\n",
      "80003/80003 [==============================] - 3s 37us/step - loss: 1.2442\n",
      "Epoch 8/30\n",
      "80003/80003 [==============================] - 3s 37us/step - loss: 1.0959\n",
      "Epoch 9/30\n",
      "80003/80003 [==============================] - 3s 37us/step - loss: 0.9932\n",
      "Epoch 10/30\n",
      "80003/80003 [==============================] - 3s 42us/step - loss: 0.9196\n",
      "Epoch 11/30\n",
      "80003/80003 [==============================] - 3s 43us/step - loss: 0.8659\n",
      "Epoch 12/30\n",
      "80003/80003 [==============================] - 3s 43us/step - loss: 0.8245\n",
      "Epoch 13/30\n",
      "80003/80003 [==============================] - 3s 37us/step - loss: 0.7934\n",
      "Epoch 14/30\n",
      "80003/80003 [==============================] - 3s 37us/step - loss: 0.7691\n",
      "Epoch 15/30\n",
      "80003/80003 [==============================] - 3s 37us/step - loss: 0.7492\n",
      "Epoch 16/30\n",
      "80003/80003 [==============================] - 3s 37us/step - loss: 0.7337\n",
      "Epoch 17/30\n",
      "80003/80003 [==============================] - 3s 36us/step - loss: 0.7208\n",
      "Epoch 18/30\n",
      "80003/80003 [==============================] - 3s 37us/step - loss: 0.7096\n",
      "Epoch 19/30\n",
      "80003/80003 [==============================] - 3s 37us/step - loss: 0.7007\n",
      "Epoch 20/30\n",
      "80003/80003 [==============================] - 3s 37us/step - loss: 0.6932\n",
      "Epoch 21/30\n",
      "80003/80003 [==============================] - 3s 37us/step - loss: 0.6865\n",
      "Epoch 22/30\n",
      "80003/80003 [==============================] - 3s 37us/step - loss: 0.6804\n",
      "Epoch 23/30\n",
      "80003/80003 [==============================] - 3s 37us/step - loss: 0.6747\n",
      "Epoch 24/30\n",
      "80003/80003 [==============================] - 3s 37us/step - loss: 0.6696\n",
      "Epoch 25/30\n",
      "80003/80003 [==============================] - 3s 37us/step - loss: 0.6642\n",
      "Epoch 26/30\n",
      "80003/80003 [==============================] - 3s 37us/step - loss: 0.6585\n",
      "Epoch 27/30\n",
      "80003/80003 [==============================] - 3s 37us/step - loss: 0.6528\n",
      "Epoch 28/30\n",
      "80003/80003 [==============================] - 3s 37us/step - loss: 0.6461\n",
      "Epoch 29/30\n",
      "80003/80003 [==============================] - 3s 37us/step - loss: 0.6395\n",
      "Epoch 30/30\n",
      "80003/80003 [==============================] - 3s 37us/step - loss: 0.6324\n"
     ]
    }
   ],
   "source": [
    "history = model.fit([train.userId, train.movieId],train.rating,batch_size=64, epochs=30,verbose=1)\n",
    "model.save('movie_recommendation.h5')"
   ]
  },
  {
   "cell_type": "markdown",
   "metadata": {
    "colab_type": "text",
    "id": "gw33T5JeFqeN"
   },
   "source": [
    "**ploting the loss** \n",
    "\n",
    "xlabel = number of epochs\n",
    "ylabel = training loss"
   ]
  },
  {
   "cell_type": "code",
   "execution_count": 125,
   "metadata": {
    "colab": {
     "base_uri": "https://localhost:8080/",
     "height": 324
    },
    "colab_type": "code",
    "id": "Ky4u1OjQ3iQs",
    "outputId": "cc25ef47-e937-43e5-fd98-a19a7c4715ed"
   },
   "outputs": [
    {
     "data": {
      "text/plain": [
       "Text(0, 0.5, 'training loss')"
      ]
     },
     "execution_count": 125,
     "metadata": {
      "tags": []
     },
     "output_type": "execute_result"
    },
    {
     "data": {
      "image/png": "[encoded data removed]",
      "text/plain": [
       "<Figure size 432x288 with 1 Axes>"
      ]
     },
     "metadata": {
      "tags": []
     },
     "output_type": "display_data"
    }
   ],
   "source": [
    "plt.plot(history.history['loss'])\n",
    "plt.xlabel('Epochs')\n",
    "plt.ylabel('training loss')"
   ]
  },
  {
   "cell_type": "markdown",
   "metadata": {
    "colab_type": "text",
    "id": "a7iAXJYoFToT"
   },
   "source": [
    "**Making Recommendations**\n",
    "\n",
    "\n",
    "Making recommendations using our trained model is simple. We only need to feed in a user and all books and then select the books which have the highest predicted ratings for that specific user.\n",
    "\n",
    "The code below shows the process of making predictions for a specific user:"
   ]
  },
  {
   "cell_type": "code",
   "execution_count": 116,
   "metadata": {
    "colab": {
     "base_uri": "https://localhost:8080/",
     "height": 34
    },
    "colab_type": "code",
    "id": "He2OT8CkADhV",
    "outputId": "75813267-22a7-494f-855b-fb1200946376"
   },
   "outputs": [
    {
     "data": {
      "text/plain": [
       "array([0, 1, 2, 3, 4])"
      ]
     },
     "execution_count": 116,
     "metadata": {
      "tags": []
     },
     "output_type": "execute_result"
    }
   ],
   "source": [
    "movie_data = np.array(list(set(df.movieId)))\n",
    "movie_data[:5]"
   ]
  },
  {
   "cell_type": "markdown",
   "metadata": {
    "colab_type": "text",
    "id": "MKdXYWvBEgzy"
   },
   "source": [
    "predicting for 14th user"
   ]
  },
  {
   "cell_type": "code",
   "execution_count": 139,
   "metadata": {
    "colab": {
     "base_uri": "https://localhost:8080/",
     "height": 34
    },
    "colab_type": "code",
    "id": "6u8AcOMsBtzE",
    "outputId": "f35d3f25-eca0-4ed9-d175-78a13301f494"
   },
   "outputs": [
    {
     "data": {
      "text/plain": [
       "array([14, 14, 14, 14, 14])"
      ]
     },
     "execution_count": 139,
     "metadata": {
      "tags": []
     },
     "output_type": "execute_result"
    }
   ],
   "source": [
    "user = np.array([14 for i in range(len(movie_data))])\n",
    "user[:5]"
   ]
  },
  {
   "cell_type": "code",
   "execution_count": 140,
   "metadata": {
    "colab": {
     "base_uri": "https://localhost:8080/",
     "height": 51
    },
    "colab_type": "code",
    "id": "mmh0CIL4B0eg",
    "outputId": "f12ae0cc-d137-4dcd-a2e8-f2ecb4710432"
   },
   "outputs": [
    {
     "name": "stdout",
     "output_type": "stream",
     "text": [
      "[1437 3955 6728 5810 3611]\n",
      "[4.372945  4.368477  4.3050733 4.253728  4.185528 ]\n"
     ]
    }
   ],
   "source": [
    "predictions = model.predict([user, movie_data])\n",
    "predictions = np.array([a[0] for a in predictions])\n",
    "recommended_movie_ids = (-predictions).argsort()[:5]\n",
    "print(recommended_movie_ids)\n",
    "print(predictions[recommended_movie_ids])"
   ]
  },
  {
   "cell_type": "code",
   "execution_count": 123,
   "metadata": {
    "colab": {
     "base_uri": "https://localhost:8080/",
     "height": 204
    },
    "colab_type": "code",
    "id": "CPCgGpHsAk_B",
    "outputId": "d8678c01-9043-4fcf-f6b0-2dd9dc5db34e"
   },
   "outputs": [
    {
     "data": {
      "text/html": [
       "<div>\n",
       "<style scoped>\n",
       "    .dataframe tbody tr th:only-of-type {\n",
       "        vertical-align: middle;\n",
       "    }\n",
       "\n",
       "    .dataframe tbody tr th {\n",
       "        vertical-align: top;\n",
       "    }\n",
       "\n",
       "    .dataframe thead th {\n",
       "        text-align: right;\n",
       "    }\n",
       "</style>\n",
       "<table border=\"1\" class=\"dataframe\">\n",
       "  <thead>\n",
       "    <tr style=\"text-align: right;\">\n",
       "      <th></th>\n",
       "      <th>movieId</th>\n",
       "      <th>title</th>\n",
       "      <th>genres</th>\n",
       "    </tr>\n",
       "  </thead>\n",
       "  <tbody>\n",
       "    <tr>\n",
       "      <th>0</th>\n",
       "      <td>1</td>\n",
       "      <td>Toy Story (1995)</td>\n",
       "      <td>Adventure|Animation|Children|Comedy|Fantasy</td>\n",
       "    </tr>\n",
       "    <tr>\n",
       "      <th>1</th>\n",
       "      <td>2</td>\n",
       "      <td>Jumanji (1995)</td>\n",
       "      <td>Adventure|Children|Fantasy</td>\n",
       "    </tr>\n",
       "    <tr>\n",
       "      <th>2</th>\n",
       "      <td>3</td>\n",
       "      <td>Grumpier Old Men (1995)</td>\n",
       "      <td>Comedy|Romance</td>\n",
       "    </tr>\n",
       "    <tr>\n",
       "      <th>3</th>\n",
       "      <td>4</td>\n",
       "      <td>Waiting to Exhale (1995)</td>\n",
       "      <td>Comedy|Drama|Romance</td>\n",
       "    </tr>\n",
       "    <tr>\n",
       "      <th>4</th>\n",
       "      <td>5</td>\n",
       "      <td>Father of the Bride Part II (1995)</td>\n",
       "      <td>Comedy</td>\n",
       "    </tr>\n",
       "  </tbody>\n",
       "</table>\n",
       "</div>"
      ],
      "text/plain": [
       "   movieId                               title  \\\n",
       "0        1                    Toy Story (1995)   \n",
       "1        2                      Jumanji (1995)   \n",
       "2        3             Grumpier Old Men (1995)   \n",
       "3        4            Waiting to Exhale (1995)   \n",
       "4        5  Father of the Bride Part II (1995)   \n",
       "\n",
       "                                        genres  \n",
       "0  Adventure|Animation|Children|Comedy|Fantasy  \n",
       "1                   Adventure|Children|Fantasy  \n",
       "2                               Comedy|Romance  \n",
       "3                         Comedy|Drama|Romance  \n",
       "4                                       Comedy  "
      ]
     },
     "execution_count": 123,
     "metadata": {
      "tags": []
     },
     "output_type": "execute_result"
    }
   ],
   "source": [
    "movies = pd.read_csv(r'/content/movies.csv')\n",
    "movies.head()"
   ]
  },
  {
   "cell_type": "code",
   "execution_count": 141,
   "metadata": {
    "colab": {
     "base_uri": "https://localhost:8080/",
     "height": 119
    },
    "colab_type": "code",
    "id": "gcGlZf54Avwn",
    "outputId": "35066d25-875c-409c-d3e4-e86a5f5e2e1d"
   },
   "outputs": [
    {
     "name": "stdout",
     "output_type": "stream",
     "text": [
      "      movieId                      title                     genres\n",
      "1164     1437  Cement Garden, The (1993)                      Drama\n",
      "2881     3611      Saludos Amigos (1943)  Animation|Children|Comedy\n",
      "3162     3955     Ladies Man, The (2000)                     Comedy\n",
      "4322     5810              8 Mile (2002)                      Drama\n",
      "4775     6728  Ugly American, The (1963)                      Drama\n"
     ]
    }
   ],
   "source": [
    "print(movies[movies['movieId'].isin(recommended_movie_ids)])"
   ]
  },
  {
   "cell_type": "code",
   "execution_count": 0,
   "metadata": {
    "colab": {},
    "colab_type": "code",
    "id": "HLNtzdxqHLMM"
   },
   "outputs": [],
   "source": []
  }
 ],
 "metadata": {
  "accelerator": "GPU",
  "colab": {
   "collapsed_sections": [],
   "name": "collaborative_filtering_recommender_systems_keras.ipynb",
   "provenance": [],
   "version": "0.3.2"
  },
  "kernelspec": {
   "display_name": "Python 3",
   "language": "python",
   "name": "python3"
  },
  "language_info": {
   "codemirror_mode": {
    "name": "ipython",
    "version": 3
   },
   "file_extension": ".py",
   "mimetype": "text/x-python",
   "name": "python",
   "nbconvert_exporter": "python",
   "pygments_lexer": "ipython3",
   "version": "3.6.7"
  }
 },
 "nbformat": 4,
 "nbformat_minor": 1
}
